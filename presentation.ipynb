{
 "cells": [
  {
   "metadata": {},
   "cell_type": "markdown",
   "source": "# A Comparison of Approaches to Combinatorial Optimisation for Touristic Route Planning",
   "id": "d93dfcf3cab4ccfb"
  },
  {
   "metadata": {
    "jupyter": {
     "is_executing": true
    }
   },
   "cell_type": "code",
   "source": [
    "import random\n",
    "\n",
    "import h5py\n",
    "import numpy as np\n",
    "\n",
    "import core.utilities as utilities\n",
    "\n",
    "\n",
    "with h5py.File('../data/training_data.h5', 'r') as f:\n",
    "    graphs = f[utilities.DataGroups.ordered_graphs.value]\n",
    "    chosen_graph = random.randrange(0, len(graphs))\n",
    "    graph = np.array(graphs[str(chosen_graph)], copy=True, dtype=int)\n",
    "    coordinates = graphs[str(chosen_graph)].attrs['coordinates'][:]"
   ],
   "id": "59a49767cdc36d83",
   "outputs": [],
   "execution_count": null
  },
  {
   "metadata": {},
   "cell_type": "code",
   "outputs": [],
   "execution_count": null,
   "source": "print(f\"{coordinates.shape[0]}\")",
   "id": "5d2f2a9c31e6cfa2"
  }
 ],
 "metadata": {
  "kernelspec": {
   "display_name": "Python 3",
   "language": "python",
   "name": "python3"
  },
  "language_info": {
   "codemirror_mode": {
    "name": "ipython",
    "version": 2
   },
   "file_extension": ".py",
   "mimetype": "text/x-python",
   "name": "python",
   "nbconvert_exporter": "python",
   "pygments_lexer": "ipython2",
   "version": "2.7.6"
  }
 },
 "nbformat": 4,
 "nbformat_minor": 5
}
